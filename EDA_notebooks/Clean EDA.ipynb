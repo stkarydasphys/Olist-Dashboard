{
 "cells": [
  {
   "cell_type": "markdown",
   "id": "8bba3013",
   "metadata": {
    "heading_collapsed": true
   },
   "source": [
    "# Prelims"
   ]
  },
  {
   "cell_type": "code",
   "execution_count": 1,
   "id": "76961f80",
   "metadata": {
    "hidden": true
   },
   "outputs": [],
   "source": [
    "# -----------------MAGIC COMMANDS---------------\n",
    "# magic commands to enable autoreload for imported packages\n",
    "%load_ext autoreload\n",
    "%autoreload 2\n",
    "\n",
    "\n",
    "# ------------------INSTALLS--------------------\n",
    "# # installation of geopy for geolocation\n",
    "# !pip install geopy\n",
    "\n",
    "\n",
    "# -------------------IMPORTS---------------------\n",
    "# basic project organizing stuff\n",
    "import os\n",
    "\n",
    "# basic EDA\n",
    "import ydata_profiling # basic EDA package\n",
    "import pandas as pd\n",
    "import numpy as np\n",
    "\n",
    "# viz\n",
    "import matplotlib.pyplot as plt\n",
    "import seaborn as sns\n",
    "from matplotlib.gridspec import GridSpec\n",
    "\n",
    "# geolocation\n",
    "from geopy.distance import geodesic"
   ]
  },
  {
   "cell_type": "markdown",
   "id": "42f7e1b4",
   "metadata": {
    "heading_collapsed": true
   },
   "source": [
    "# Data"
   ]
  },
  {
   "cell_type": "markdown",
   "id": "04147632",
   "metadata": {
    "heading_collapsed": true,
    "hidden": true
   },
   "source": [
    "## Loading data"
   ]
  },
  {
   "cell_type": "code",
   "execution_count": 2,
   "id": "f55f7007",
   "metadata": {
    "hidden": true
   },
   "outputs": [],
   "source": [
    "# see where we are\n",
    "# os.getcwd()\n",
    "\n",
    "# create relative path to the data folder\n",
    "csv_path = os.path.join(\"..\", \"data\")\n",
    "\n",
    "# # sanity check\n",
    "# pd.read_csv(os.path.join(csv_path, 'customers.csv')).head()\n",
    "\n",
    "# creating list with csv filenames\n",
    "file_names = [name for name in os.listdir(csv_path) if name[-4:] == \".csv\"]\n",
    "\n",
    "# creating list with desired names\n",
    "key_names = [name.replace(\".csv\", \"_df\") for name in file_names]\n",
    "\n",
    "# creating dictionary with all the data\n",
    "data = {key_name: pd.read_csv(os.path.join(csv_path, file)) \n",
    "        for (key_name, file) in zip (key_names, file_names)}"
   ]
  },
  {
   "cell_type": "code",
   "execution_count": 3,
   "id": "5f924acb",
   "metadata": {
    "hidden": true
   },
   "outputs": [
    {
     "data": {
      "text/plain": [
       "dict_keys(['leads_qualified_df', 'order_items_df', 'geolocation_df', 'customers_df', 'order_reviews_df', 'order_payments_df', 'product_category_name_translation_df', 'products_df', 'leads_closed_df', 'orders_df', 'sellers_df'])"
      ]
     },
     "execution_count": 3,
     "metadata": {},
     "output_type": "execute_result"
    }
   ],
   "source": [
    "data.keys()"
   ]
  },
  {
   "cell_type": "markdown",
   "id": "bca3f3cc",
   "metadata": {
    "heading_collapsed": true,
    "hidden": true
   },
   "source": [
    "### Extracting dataframes from dictionary to shorten code needed"
   ]
  },
  {
   "cell_type": "code",
   "execution_count": 9,
   "id": "9a87a698",
   "metadata": {
    "hidden": true
   },
   "outputs": [],
   "source": [
    "customers = data[\"customers_df\"]\n",
    "orders = data[\"orders_df\"]\n",
    "items = data[\"order_items_df\"]\n",
    "payments = data[\"order_payments_df\"]\n",
    "reviews = data[\"order_reviews_df\"]\n",
    "geolocation = data[\"geolocation_df\"]\n",
    "products = data[\"products_df\"]\n",
    "product_name_transl = data[\"product_category_name_translation_df\"]\n",
    "sellers = data[\"sellers_df\"]\n",
    "\n",
    "# marketing dfs\n",
    "# leads_qu = data[\"leads_qualified_df\"]\n",
    "# leads_cl = data[\"leads_closed_df\"]"
   ]
  },
  {
   "cell_type": "markdown",
   "id": "78f53b48",
   "metadata": {
    "heading_collapsed": true,
    "hidden": true
   },
   "source": [
    "### Merging product translation to product df"
   ]
  },
  {
   "cell_type": "code",
   "execution_count": 10,
   "id": "1a12f863",
   "metadata": {
    "hidden": true
   },
   "outputs": [],
   "source": [
    "products = pd.merge(products, product_name_transl, how = \"left\", on = \"product_category_name\").drop(columns = [\"Unnamed: 0_x\", \"product_category_name\", \"Unnamed: 0_y\"])"
   ]
  },
  {
   "cell_type": "markdown",
   "id": "5181314f",
   "metadata": {
    "heading_collapsed": true,
    "hidden": true
   },
   "source": [
    "## Some basic engineering/cleaning"
   ]
  },
  {
   "cell_type": "markdown",
   "id": "ac52e8f5",
   "metadata": {
    "heading_collapsed": true,
    "hidden": true
   },
   "source": [
    "### Dropping Unnamed columns and duplicates"
   ]
  },
  {
   "cell_type": "markdown",
   "id": "2baaee3f",
   "metadata": {
    "hidden": true
   },
   "source": [
    "**Note:** The unnamed columns come from the sql to df conversion done on the other notebook. It just has the indices so it's useless"
   ]
  },
  {
   "cell_type": "code",
   "execution_count": 11,
   "id": "da6dec47",
   "metadata": {
    "hidden": true
   },
   "outputs": [],
   "source": [
    "customers = customers.drop(columns = \"Unnamed: 0\").drop_duplicates()\n",
    "orders = orders.drop(columns = \"Unnamed: 0\").drop_duplicates()\n",
    "items = items.drop(columns = \"Unnamed: 0\").drop_duplicates()\n",
    "payments = payments.drop(columns = \"Unnamed: 0\").drop_duplicates()\n",
    "reviews = reviews.drop(columns = \"Unnamed: 0\").drop_duplicates()\n",
    "geolocation = geolocation.drop(columns = \"Unnamed: 0\").drop_duplicates()\n",
    "sellers = sellers.drop(columns = \"Unnamed: 0\").drop_duplicates()\n",
    "products = products.drop_duplicates()"
   ]
  },
  {
   "cell_type": "markdown",
   "id": "a754fdab",
   "metadata": {
    "heading_collapsed": true,
    "hidden": true
   },
   "source": [
    "### Averaging longitude and latitude for later convenience"
   ]
  },
  {
   "cell_type": "code",
   "execution_count": 12,
   "id": "b9381e9f",
   "metadata": {
    "hidden": true
   },
   "outputs": [],
   "source": [
    "geolocation = geolocation.groupby(by = \"geolocation_zip_code_prefix\").mean()"
   ]
  },
  {
   "cell_type": "markdown",
   "id": "72b4ad72",
   "metadata": {
    "heading_collapsed": true,
    "hidden": true
   },
   "source": [
    "### Converting date objects to datetimes and creating delivery timedeltas"
   ]
  },
  {
   "cell_type": "code",
   "execution_count": 13,
   "id": "a4aeacd8",
   "metadata": {
    "hidden": true
   },
   "outputs": [],
   "source": [
    "# orders\n",
    "orders[[\"order_purchase_timestamp\", \"order_approved_at\", \n",
    "              \"order_delivered_carrier_date\", \"order_delivered_customer_date\", \n",
    "              \"order_estimated_delivery_date\"]] = orders[[\"order_purchase_timestamp\", \"order_approved_at\", \n",
    "              \"order_delivered_carrier_date\", \"order_delivered_customer_date\", \n",
    "              \"order_estimated_delivery_date\"]].apply(pd.to_datetime)\n",
    "\n",
    "# items\n",
    "items[[\"shipping_limit_date\"]] = items[[\"shipping_limit_date\"]].apply(pd.to_datetime)\n",
    "\n",
    "# reviews\n",
    "reviews[[\"review_creation_date\", \"review_answer_timestamp\"]] = reviews[[\"review_creation_date\", \"review_answer_timestamp\"]].apply(pd.to_datetime)"
   ]
  },
  {
   "cell_type": "code",
   "execution_count": null,
   "id": "36ad63ac",
   "metadata": {
    "hidden": true
   },
   "outputs": [],
   "source": [
    "orders[\"delivery_time\"] = (orders[\"order_delivered_customer_date\"] - orders[\"order_purchase_timestamp\"]).dt.days\n",
    "orders[\"delivery vs estimate\"] = (orders[\"order_delivered_customer_date\"] - orders[\"order_estimated_delivery_date\"]).dt.days\n",
    "orders[\"carrier_to_customer\"] = (orders[\"order_delivered_customer_date\"] - orders[\"order_delivered_carrier_date\"]).dt.days"
   ]
  },
  {
   "cell_type": "markdown",
   "id": "64ff2123",
   "metadata": {
    "heading_collapsed": true,
    "hidden": true
   },
   "source": [
    "### Merging Review Title and Review Comment - Filling nulls with \"no review\""
   ]
  },
  {
   "cell_type": "code",
   "execution_count": 16,
   "id": "bd4a662b",
   "metadata": {
    "hidden": true
   },
   "outputs": [],
   "source": [
    "# merging review title and comment\n",
    "reviews[\"review_all\"] = reviews[\"review_comment_title\"].add(reviews[\"review_comment_message\"], fill_value = \"\")\n",
    "reviews = reviews.drop(columns = [\"review_comment_message\", \"review_comment_title\"])\n",
    "\n",
    "# filling nulls\n",
    "reviews.loc[reviews[\"review_all\"].isna(), \"review_all\"] = \"no review\""
   ]
  },
  {
   "cell_type": "markdown",
   "id": "1219e397",
   "metadata": {
    "hidden": true
   },
   "source": [
    "### Creating Product Volume and dropping separate width, length, height columns, changing mass to Kg"
   ]
  },
  {
   "cell_type": "code",
   "execution_count": 17,
   "id": "7ace0fd2",
   "metadata": {
    "hidden": true
   },
   "outputs": [],
   "source": [
    "products[\"volume_litres\"] = products[\"product_length_cm\"]*products[\"product_width_cm\"]*products[\"product_height_cm\"]/1000\n",
    "products[\"mass_kg\"] = products[\"product_weight_g\"]/1000\n",
    "products.drop(columns = \"product_weight_g\", inplace = True)\n",
    "\n",
    "products.drop(columns = [\"product_length_cm\", \"product_height_cm\", \"product_width_cm\"], inplace = True)"
   ]
  },
  {
   "cell_type": "markdown",
   "id": "b9f65462",
   "metadata": {},
   "source": [
    "# Basic Summary Statistics"
   ]
  },
  {
   "cell_type": "code",
   "execution_count": null,
   "id": "276d3e7f",
   "metadata": {},
   "outputs": [],
   "source": []
  }
 ],
 "metadata": {
  "kernelspec": {
   "display_name": "Python 3 (ipykernel)",
   "language": "python",
   "name": "python3"
  },
  "language_info": {
   "codemirror_mode": {
    "name": "ipython",
    "version": 3
   },
   "file_extension": ".py",
   "mimetype": "text/x-python",
   "name": "python",
   "nbconvert_exporter": "python",
   "pygments_lexer": "ipython3",
   "version": "3.10.6"
  },
  "toc": {
   "base_numbering": 1,
   "nav_menu": {},
   "number_sections": true,
   "sideBar": true,
   "skip_h1_title": false,
   "title_cell": "Table of Contents",
   "title_sidebar": "Contents",
   "toc_cell": false,
   "toc_position": {},
   "toc_section_display": true,
   "toc_window_display": true
  }
 },
 "nbformat": 4,
 "nbformat_minor": 5
}
